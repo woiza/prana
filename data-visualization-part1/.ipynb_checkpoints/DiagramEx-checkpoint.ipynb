{
 "cells": [
  {
   "cell_type": "markdown",
   "metadata": {},
   "source": [
    "# Prerequisite: Load Data into pandas\n",
    "Now you should start to develop your own diagrams. Therefore download the files <b>sales.csv</b> and <b>statistics.csv</b> from Moodle and load it into pandas. \n",
    "<b>Hints:</b>\n",
    "<ul>\n",
    "    <li> Take a look at the parameter <i>parse_dates</i>.</li>\n",
    "    <li> Of course you should start using a text editor to take a look at the contents.</li>\n",
    "</ul>"
   ]
  },
  {
   "cell_type": "code",
   "execution_count": 53,
   "metadata": {},
   "outputs": [],
   "source": [
    "# load the data into pandas\n",
    "import pandas as pd\n",
    "import numpy as np\n",
    "import matplotlib as mp\n",
    "import matplotlib.pyplot as plt"
   ]
  },
  {
   "cell_type": "code",
   "execution_count": 54,
   "metadata": {},
   "outputs": [
    {
     "data": {
      "text/html": [
       "<div>\n",
       "<style scoped>\n",
       "    .dataframe tbody tr th:only-of-type {\n",
       "        vertical-align: middle;\n",
       "    }\n",
       "\n",
       "    .dataframe tbody tr th {\n",
       "        vertical-align: top;\n",
       "    }\n",
       "\n",
       "    .dataframe thead th {\n",
       "        text-align: right;\n",
       "    }\n",
       "</style>\n",
       "<table border=\"1\" class=\"dataframe\">\n",
       "  <thead>\n",
       "    <tr style=\"text-align: right;\">\n",
       "      <th></th>\n",
       "      <th>Date</th>\n",
       "      <th>Food</th>\n",
       "      <th>Print</th>\n",
       "      <th>Stationery</th>\n",
       "    </tr>\n",
       "  </thead>\n",
       "  <tbody>\n",
       "    <tr>\n",
       "      <td>0</td>\n",
       "      <td>2016-01-01</td>\n",
       "      <td>13.0</td>\n",
       "      <td>NaN</td>\n",
       "      <td>19.0</td>\n",
       "    </tr>\n",
       "    <tr>\n",
       "      <td>1</td>\n",
       "      <td>2016-02-01</td>\n",
       "      <td>5.0</td>\n",
       "      <td>15.0</td>\n",
       "      <td>12.0</td>\n",
       "    </tr>\n",
       "    <tr>\n",
       "      <td>2</td>\n",
       "      <td>2016-03-01</td>\n",
       "      <td>1.0</td>\n",
       "      <td>10.0</td>\n",
       "      <td>20.0</td>\n",
       "    </tr>\n",
       "    <tr>\n",
       "      <td>3</td>\n",
       "      <td>2016-04-01</td>\n",
       "      <td>9.0</td>\n",
       "      <td>11.0</td>\n",
       "      <td>58.0</td>\n",
       "    </tr>\n",
       "    <tr>\n",
       "      <td>4</td>\n",
       "      <td>2016-05-01</td>\n",
       "      <td>NaN</td>\n",
       "      <td>31.0</td>\n",
       "      <td>10.0</td>\n",
       "    </tr>\n",
       "    <tr>\n",
       "      <td>...</td>\n",
       "      <td>...</td>\n",
       "      <td>...</td>\n",
       "      <td>...</td>\n",
       "      <td>...</td>\n",
       "    </tr>\n",
       "    <tr>\n",
       "      <td>1087</td>\n",
       "      <td>2018-12-27</td>\n",
       "      <td>6.0</td>\n",
       "      <td>NaN</td>\n",
       "      <td>10.0</td>\n",
       "    </tr>\n",
       "    <tr>\n",
       "      <td>1088</td>\n",
       "      <td>2018-12-28</td>\n",
       "      <td>5.0</td>\n",
       "      <td>7.0</td>\n",
       "      <td>23.0</td>\n",
       "    </tr>\n",
       "    <tr>\n",
       "      <td>1089</td>\n",
       "      <td>2018-12-29</td>\n",
       "      <td>21.0</td>\n",
       "      <td>NaN</td>\n",
       "      <td>NaN</td>\n",
       "    </tr>\n",
       "    <tr>\n",
       "      <td>1090</td>\n",
       "      <td>2018-12-30</td>\n",
       "      <td>6.0</td>\n",
       "      <td>NaN</td>\n",
       "      <td>20.0</td>\n",
       "    </tr>\n",
       "    <tr>\n",
       "      <td>1091</td>\n",
       "      <td>2018-12-31</td>\n",
       "      <td>17.0</td>\n",
       "      <td>31.0</td>\n",
       "      <td>3.0</td>\n",
       "    </tr>\n",
       "  </tbody>\n",
       "</table>\n",
       "<p>1092 rows × 4 columns</p>\n",
       "</div>"
      ],
      "text/plain": [
       "           Date  Food  Print  Stationery\n",
       "0    2016-01-01  13.0    NaN        19.0\n",
       "1    2016-02-01   5.0   15.0        12.0\n",
       "2    2016-03-01   1.0   10.0        20.0\n",
       "3    2016-04-01   9.0   11.0        58.0\n",
       "4    2016-05-01   NaN   31.0        10.0\n",
       "...         ...   ...    ...         ...\n",
       "1087 2018-12-27   6.0    NaN        10.0\n",
       "1088 2018-12-28   5.0    7.0        23.0\n",
       "1089 2018-12-29  21.0    NaN         NaN\n",
       "1090 2018-12-30   6.0    NaN        20.0\n",
       "1091 2018-12-31  17.0   31.0         3.0\n",
       "\n",
       "[1092 rows x 4 columns]"
      ]
     },
     "execution_count": 54,
     "metadata": {},
     "output_type": "execute_result"
    }
   ],
   "source": [
    "df_sales = pd.read_csv('sales.csv',sep=';', parse_dates=[0])\n",
    "df_sales"
   ]
  },
  {
   "cell_type": "code",
   "execution_count": 55,
   "metadata": {},
   "outputs": [
    {
     "data": {
      "text/html": [
       "<div>\n",
       "<style scoped>\n",
       "    .dataframe tbody tr th:only-of-type {\n",
       "        vertical-align: middle;\n",
       "    }\n",
       "\n",
       "    .dataframe tbody tr th {\n",
       "        vertical-align: top;\n",
       "    }\n",
       "\n",
       "    .dataframe thead th {\n",
       "        text-align: right;\n",
       "    }\n",
       "</style>\n",
       "<table border=\"1\" class=\"dataframe\">\n",
       "  <thead>\n",
       "    <tr style=\"text-align: right;\">\n",
       "      <th></th>\n",
       "      <th>NumberOfProducts</th>\n",
       "      <th>AmountSold</th>\n",
       "      <th>MarketShare</th>\n",
       "    </tr>\n",
       "  </thead>\n",
       "  <tbody>\n",
       "    <tr>\n",
       "      <td>0</td>\n",
       "      <td>5</td>\n",
       "      <td>5500</td>\n",
       "      <td>3</td>\n",
       "    </tr>\n",
       "    <tr>\n",
       "      <td>1</td>\n",
       "      <td>14</td>\n",
       "      <td>12200</td>\n",
       "      <td>12</td>\n",
       "    </tr>\n",
       "    <tr>\n",
       "      <td>2</td>\n",
       "      <td>20</td>\n",
       "      <td>60000</td>\n",
       "      <td>33</td>\n",
       "    </tr>\n",
       "    <tr>\n",
       "      <td>3</td>\n",
       "      <td>18</td>\n",
       "      <td>24400</td>\n",
       "      <td>10</td>\n",
       "    </tr>\n",
       "    <tr>\n",
       "      <td>4</td>\n",
       "      <td>22</td>\n",
       "      <td>32000</td>\n",
       "      <td>42</td>\n",
       "    </tr>\n",
       "  </tbody>\n",
       "</table>\n",
       "</div>"
      ],
      "text/plain": [
       "   NumberOfProducts  AmountSold  MarketShare\n",
       "0                 5        5500            3\n",
       "1                14       12200           12\n",
       "2                20       60000           33\n",
       "3                18       24400           10\n",
       "4                22       32000           42"
      ]
     },
     "execution_count": 55,
     "metadata": {},
     "output_type": "execute_result"
    }
   ],
   "source": [
    "df_stat = pd.read_csv('statistic.csv',sep=';')\n",
    "df_stat"
   ]
  },
  {
   "cell_type": "markdown",
   "metadata": {},
   "source": [
    "# Exercise 1: Create IBCS conform Charts using pandas and matplotlib\n",
    "As a next step use the data in sales.csv to create an IBCS conform bar chart displaying the yearly aggregates of items sold per article group as a stacked bar chart.\n",
    "\n",
    "<b>Hints:</b>\n",
    "<ul>\n",
    "    <li>Take a look at the <a href=\"http://pandas.pydata.org/pandas-docs/stable/groupby.html\">groupby function</a>, in particular the aggregates section, first.</li>\n",
    "    <li><i>df[\"Year\"] = df.Date.dt.strftime('%Y')</i> extracts the year from a 'Date' column into a new column 'Year' .</li>\n",
    "    <li>matplotlib.colors.ListedColormap(['darkgrey', 'grey','lightgrey']) creates a new colormap using certain greys.</li>\n",
    "</ul>"
   ]
  },
  {
   "cell_type": "code",
   "execution_count": 56,
   "metadata": {},
   "outputs": [
    {
     "data": {
      "text/html": [
       "<div>\n",
       "<style scoped>\n",
       "    .dataframe tbody tr th:only-of-type {\n",
       "        vertical-align: middle;\n",
       "    }\n",
       "\n",
       "    .dataframe tbody tr th {\n",
       "        vertical-align: top;\n",
       "    }\n",
       "\n",
       "    .dataframe thead th {\n",
       "        text-align: right;\n",
       "    }\n",
       "</style>\n",
       "<table border=\"1\" class=\"dataframe\">\n",
       "  <thead>\n",
       "    <tr style=\"text-align: right;\">\n",
       "      <th></th>\n",
       "      <th>Year</th>\n",
       "      <th>Food</th>\n",
       "      <th>Print</th>\n",
       "      <th>Stationery</th>\n",
       "    </tr>\n",
       "  </thead>\n",
       "  <tbody>\n",
       "    <tr>\n",
       "      <td>0</td>\n",
       "      <td>2016</td>\n",
       "      <td>5419.0</td>\n",
       "      <td>5087.0</td>\n",
       "      <td>4655.0</td>\n",
       "    </tr>\n",
       "    <tr>\n",
       "      <td>1</td>\n",
       "      <td>2017</td>\n",
       "      <td>5132.0</td>\n",
       "      <td>5180.0</td>\n",
       "      <td>5220.0</td>\n",
       "    </tr>\n",
       "    <tr>\n",
       "      <td>2</td>\n",
       "      <td>2018</td>\n",
       "      <td>4426.0</td>\n",
       "      <td>5129.0</td>\n",
       "      <td>4995.0</td>\n",
       "    </tr>\n",
       "  </tbody>\n",
       "</table>\n",
       "</div>"
      ],
      "text/plain": [
       "   Year    Food   Print  Stationery\n",
       "0  2016  5419.0  5087.0      4655.0\n",
       "1  2017  5132.0  5180.0      5220.0\n",
       "2  2018  4426.0  5129.0      4995.0"
      ]
     },
     "execution_count": 56,
     "metadata": {},
     "output_type": "execute_result"
    }
   ],
   "source": [
    "df_sales[\"Year\"]    = df_sales.Date.dt.strftime('%Y')\n",
    "df_grouped          = df_sales.groupby(['Year'])\n",
    "df_aggregated_sales = df_grouped.aggregate(np.sum)\n",
    "df_aggregated_sales.reset_index(inplace=True)\n",
    "df_aggregated_sales"
   ]
  },
  {
   "cell_type": "code",
   "execution_count": 144,
   "metadata": {},
   "outputs": [
    {
     "name": "stdout",
     "output_type": "stream",
     "text": [
      "<BarContainer object of 3 artists>\n"
     ]
    },
    {
     "data": {
      "image/png": "[encoded data removed]",
      "text/plain": [
       "<Figure size 432x288 with 1 Axes>"
      ]
     },
     "metadata": {
      "needs_background": "light"
     },
     "output_type": "display_data"
    }
   ],
   "source": [
    "colormap = mp.colors.ListedColormap(['darkgrey', 'grey','lightgrey'])\n",
    "n = 3\n",
    "s_food       = df_aggregated_sales['Food'].values\n",
    "s_print      = df_aggregated_sales['Print'].values\n",
    "s_stationery = df_aggregated_sales['Stationery'].values\n",
    "s_year       = df_aggregated_sales['Year'].values\n",
    "s_yearsums   = s_food+s_print+s_stationery\n",
    "\n",
    "\n",
    "ind = np.arange(n) # the x locations for the groups\n",
    "width = 0.35       # the width of the bars: can also be len(x) sequence\n",
    "\n",
    "p1 = plt.bar(ind, s_food, width, color='darkgrey')\n",
    "p2 = plt.bar(ind, s_print, width, bottom=s_food, color='grey')\n",
    "p3 = plt.bar(ind, s_stationery, width, bottom=s_food+s_print, color='lightgrey')\n",
    "\n",
    "plt.ylabel('Amount sold')\n",
    "plt.xlabel('Year')\n",
    "plt.title('Articles sold by year and category')\n",
    "plt.xticks(ind, s_year)\n",
    "plt.yticks(np.arange(0, 20000, 2000))\n",
    "plt.legend((p1[0], p2[0], p3[0]), ('Food', 'Print', 'Stationery'), loc='lower center', ncol=3)\n",
    "\n",
    "def autolabel(bars):\n",
    "    \"\"\"Attach a text label above each bar in *rects*, displaying its height.\"\"\"\n",
    "    for bar in bars:\n",
    "        height = bar.get_height()\n",
    "        plt.annotate('{}'.format(height),\n",
    "                    xy=(bar.get_x() + bar.get_width() / 2, height + bar.get_y()),\n",
    "                    xytext=(0, -20),  # -20 points vertical offset\n",
    "                    textcoords=\"offset points\",\n",
    "                    ha='center', va='bottom')\n",
    "\n",
    "autolabel(p1)\n",
    "autolabel(p2)\n",
    "autolabel(p3)\n",
    "\n",
    "plt.annotate('{}'.format(s_yearsums[0]), xy=(ind[0], s_yearsums[0]), xytext=(0,5), textcoords=\"offset points\", ha='center', va='bottom')\n",
    "plt.annotate('{}'.format(s_yearsums[1]), xy=(ind[1], s_yearsums[1]), xytext=(0,5), textcoords=\"offset points\", ha='center', va='bottom')\n",
    "plt.annotate('{}'.format(s_yearsums[2]), xy=(ind[2], s_yearsums[2]), xytext=(0,5), textcoords=\"offset points\", ha='center', va='bottom')\n",
    "\n",
    "#i=0\n",
    "#n=len(series_yearsums)\n",
    "\n",
    "#while i<=n:\n",
    "#    height = series_yearsums[i]\n",
    "#    pyplt.annotate('{}'.format(height),\n",
    "#                    xy=(ind[i], height),\n",
    "#                    xytext=(0, 20),  # 20 points vertical offset\n",
    "#                    textcoords=\"offset points\",\n",
    "#                    ha='center', va='bottom')\n",
    "#    i += 1\n",
    "\n",
    "plt.show()"
   ]
  },
  {
   "cell_type": "code",
   "execution_count": 143,
   "metadata": {},
   "outputs": [
    {
     "name": "stdout",
     "output_type": "stream",
     "text": [
      "AxesSubplot(0.125,0.125;0.775x0.755)\n"
     ]
    },
    {
     "data": {
      "image/png": "[encoded data removed]",
      "text/plain": [
       "<Figure size 432x288 with 1 Axes>"
      ]
     },
     "metadata": {
      "needs_background": "light"
     },
     "output_type": "display_data"
    }
   ],
   "source": [
    "colormap = mp.colors.ListedColormap(['darkgrey', 'grey','lightgrey'])\n",
    "\n",
    "ax = df_aggregated_sales.plot(kind='bar', stacked=True, color = colormap.colors)\n",
    "ax.set_xlabel('Year')\n",
    "ax.set_ylabel('Amount sold')\n",
    "s_year  = df_aggregated_sales['Year'].values\n",
    "\n",
    "print(ax)\n",
    "\n",
    "N = 3\n",
    "ind = np.arange(N)\n",
    "width = 0.35\n",
    "\n",
    "column_xticks = plt.xticks(ind,s_year)\n",
    "plt.legend(('Food', 'Print', 'Stationery'), loc='lower center', ncol=3)\n",
    "\n",
    "for p in ax.patches:\n",
    "    width, height = p.get_width(), p.get_height()\n",
    "    sum += sum\n",
    "    x, y = p.get_xy() \n",
    "    ax.text(x+width/2, \n",
    "            y+height/2, \n",
    "            '{:.0f}'.format(height), \n",
    "            horizontalalignment='center', \n",
    "            verticalalignment='center')\n",
    "\n"
   ]
  },
  {
   "cell_type": "markdown",
   "metadata": {
    "collapsed": true
   },
   "source": [
    "# Exercise 2: Create a Bubble Chart using pandas and matplotlib\n",
    "A frequently used type of chart for displaying correlations together with volume is a bubble chart. Use the data provided in statistics.csv to produce a chart display the \"Number of Products\" vs the \"Market Share\" where the size of the bubbles should correspond to the \"Amount Sold\"."
   ]
  },
  {
   "cell_type": "code",
   "execution_count": 58,
   "metadata": {},
   "outputs": [
    {
     "data": {
      "image/png": "[encoded data removed]",
      "text/plain": [
       "<Figure size 432x288 with 1 Axes>"
      ]
     },
     "metadata": {
      "needs_background": "light"
     },
     "output_type": "display_data"
    }
   ],
   "source": [
    "x    = df_stat['NumberOfProducts']\n",
    "y    = df_stat['MarketShare']\n",
    "size = df_stat['AmountSold']\n",
    "\n",
    "plt.ylabel('Number of Products')\n",
    "plt.xlabel('Market Share')\n",
    "plt.title('Amount Sold')\n",
    "\n",
    "plt.scatter(x, y, s=size*0.05)\n",
    "plt.show()"
   ]
  }
 ],
 "metadata": {
  "kernelspec": {
   "display_name": "Python 3",
   "language": "python",
   "name": "python3"
  },
  "language_info": {
   "codemirror_mode": {
    "name": "ipython",
    "version": 3
   },
   "file_extension": ".py",
   "mimetype": "text/x-python",
   "name": "python",
   "nbconvert_exporter": "python",
   "pygments_lexer": "ipython3",
   "version": "3.7.4"
  }
 },
 "nbformat": 4,
 "nbformat_minor": 2
}
