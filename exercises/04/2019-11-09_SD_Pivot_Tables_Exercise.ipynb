{
 "cells": [
  {
   "cell_type": "markdown",
   "metadata": {},
   "source": [
    "# Übungen zu Pivottabellen"
   ]
  },
  {
   "cell_type": "markdown",
   "metadata": {},
   "source": [
    "## Aufgabe 1\n",
    "Arbeiten Sie das Tutorial in der Datei [Pandas-Pivot-Table-Explained.ipynb](Pandas-Pivot-Table-Explained.ipynb) durch und beantworten Sie dann folgende Fragen:\n",
    "\n",
    "### 1.1 Festlegen einer Ordnung\n",
    "Angenommen, man hätte in einem Data Frame eine Spalte, in der Monate mit Namenskürzeln `JAN, FEB, MRZ, ..., NOV, DEZ` erfasst sind statt mit den Zahlen von 1-12. Was könnte man dann tun, um bei Verwendung dieser Spalte in Pivottabellen sicher zu stellen, dass diese Werte in der gewünschten Ordnung ausgegeben werden?\n",
    "\n",
    "df[\"Monat\"] = df[\"Monat\"].astype(\"category\")\n",
    "\n",
    "df[\"Monat\"].cat.set_categories([\"JAN\",\"FEB\",\"MRZ\",usw.],inplace=True)\n",
    "\n",
    "### 1.2 Spalten und Aggregatfunktionen\n",
    "Was ist von den Pivottabellen in den Zellen 4 -6 zu halten? Gehen Sie in Ihrer Antwort insbesondere auf die Verwendung der Spalte `Account` sowie die verwendete Aggregatfunktion ein.\n",
    "\n",
    "Die Spalte sieht aus, als würde es sich hierbei (Account) um einen Zahlenwert handeln. Jedoch sollte Account eine ID (eindeutiger Identifizierer) sein. In Zelle 6 wird eine Mittelwert gebildet und somit Daten verfälscht.\n",
    "\n",
    "\n",
    "### 1.3 `fill_value`\n",
    "Wozu dient der Parameter `fill_value` der Funtion `pivot_table`?\n",
    "\n",
    "Fehlende Werte (NaN) werten mit fill_value \"aufgefüllt\". \n",
    "\n",
    "### 1.4 Aggregation von Quantity\n",
    "Ist die Verwendung der Aggregatfunktion `len` für das Attribut `Quantity` sinnvoll (wie z.B. in Zelle 16)? Was könnte hier evtl. schief gehen?\n",
    "\n",
    "Gibt die Länge (Anzahl von Einzträgen) eines Attributs an, somit ergibt das für Quantity wenig Sinn.\n",
    "\n",
    "### 1.5 Multi-dimensionale Operationen\n",
    "Den in dem Tutorial verwendeten Daten könnte folgendes (qualitativ nicht sehr hochwertige) *Sternschema* zu Grunde liegen.\n",
    "\n",
    "![ER-Modell Sternschema](img/SalesFunnelStar.png)\n",
    "\n",
    "Welche multi-dimensionalen Operationen wurden dann mit den Pivottabellen in den Zellen \n",
    "\n",
    "1. 12 - Roll-Up\n",
    "2. 15 - Split\n",
    "3. 18 - Slicing\n",
    "4. 14 - Drill-Down\n",
    "\n",
    "umgesetzt?"
   ]
  },
  {
   "cell_type": "markdown",
   "metadata": {},
   "source": [
    "## Aufgabe 2\n",
    "Erweitern Sie die Datei [Pandas-Pivot-Table-Explained.ipynb](Pandas-Pivot-Table-Explained.ipynb) um die Möglichkeit, die dortigen Pivottabellen nochmals mit `pivottablejs` zu erstellen. Tun Sie das dann auch für die Tabellen in den Zellen 8, 10 bzw. 11 und 15 (jeweils ohne `fill_value`). Machen Sie davon jeweils *Screenshots*, die Sie hier als Lösung einfügen.\n",
    "\n",
    "**Hinweis:** Wie man Bilder in Markdown einfügt, erklärt das [Cheat Sheet](https://guides.github.com/pdfs/markdown-cheatsheet-online.pdf). Sie können aber auch eine Zelle mit einem Bild aus der Themenausarbeitung mal im Edit mode öffnen. Dort sehen Sie dann eine Möglichkeit, ein Bild mit normalem HTML *skaliert* einzufügen."
   ]
  },
  {
   "cell_type": "markdown",
   "metadata": {},
   "source": [
    "### Zeile 8\n",
    "![Zeile 8](images/ln8.png)"
   ]
  },
  {
   "cell_type": "markdown",
   "metadata": {},
   "source": [
    "### Zeile 10\n",
    "![Zeile 10](images/ln10.png)"
   ]
  },
  {
   "cell_type": "markdown",
   "metadata": {},
   "source": [
    "### Zeile 15\n",
    "![Zeile 16](images/ln15.png)"
   ]
  }
 ],
 "metadata": {
  "kernelspec": {
   "display_name": "Python 3",
   "language": "python",
   "name": "python3"
  },
  "language_info": {
   "codemirror_mode": {
    "name": "ipython",
    "version": 3
   },
   "file_extension": ".py",
   "mimetype": "text/x-python",
   "name": "python",
   "nbconvert_exporter": "python",
   "pygments_lexer": "ipython3",
   "version": "3.7.4"
  }
 },
 "nbformat": 4,
 "nbformat_minor": 2
}
