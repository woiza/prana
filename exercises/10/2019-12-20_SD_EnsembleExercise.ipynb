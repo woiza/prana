{
 "cells": [
  {
   "cell_type": "markdown",
   "metadata": {},
   "source": [
    "# Homework on Ensemble Learners\n",
    "\n",
    "**Hint**: Most of the tasks can be done with slight adaptations of the code that was demonstrated in class"
   ]
  },
  {
   "cell_type": "code",
   "execution_count": 1,
   "metadata": {},
   "outputs": [],
   "source": [
    "import matplotlib.pyplot as plt\n",
    "%matplotlib inline\n",
    "import warnings # this will silence warnings that are likely to appear during GridSearch (but also others ...)\n",
    "warnings.filterwarnings(\"ignore\")"
   ]
  },
  {
   "cell_type": "markdown",
   "metadata": {},
   "source": [
    "### 1. Prepare Data Set"
   ]
  },
  {
   "cell_type": "markdown",
   "metadata": {},
   "source": [
    "#### A. Obtain the data\n",
    "1. Import the [breast cancer dataset](https://scikit-learn.org/stable/datasets/index.html#breast-cancer-wisconsin-diagnostic-dataset)\n",
    "2. Check that the class labels are already encoded"
   ]
  },
  {
   "cell_type": "code",
   "execution_count": 2,
   "metadata": {},
   "outputs": [
    {
     "data": {
      "text/plain": [
       "array([0, 0, 0, 0, 0, 0, 0, 0, 0, 0, 0, 0, 0, 0, 0, 0, 0, 0, 0, 1, 1, 1,\n",
       "       0, 0, 0, 0, 0, 0, 0, 0, 0, 0, 0, 0, 0, 0, 0, 1, 0, 0, 0, 0, 0, 0,\n",
       "       0, 0, 1, 0, 1, 1, 1, 1, 1, 0, 0, 1, 0, 0, 1, 1, 1, 1, 0, 1, 0, 0,\n",
       "       1, 1, 1, 1, 0, 1, 0, 0, 1, 0, 1, 0, 0, 1, 1, 1, 0, 0, 1, 0, 0, 0,\n",
       "       1, 1, 1, 0, 1, 1, 0, 0, 1, 1, 1, 0, 0, 1, 1, 1, 1, 0, 1, 1, 0, 1,\n",
       "       1, 1, 1, 1, 1, 1, 1, 0, 0, 0, 1, 0, 0, 1, 1, 1, 0, 0, 1, 0, 1, 0,\n",
       "       0, 1, 0, 0, 1, 1, 0, 1, 1, 0, 1, 1, 1, 1, 0, 1, 1, 1, 1, 1, 1, 1,\n",
       "       1, 1, 0, 1, 1, 1, 1, 0, 0, 1, 0, 1, 1, 0, 0, 1, 1, 0, 0, 1, 1, 1,\n",
       "       1, 0, 1, 1, 0, 0, 0, 1, 0, 1, 0, 1, 1, 1, 0, 1, 1, 0, 0, 1, 0, 0,\n",
       "       0, 0, 1, 0, 0, 0, 1, 0, 1, 0, 1, 1, 0, 1, 0, 0, 0, 0, 1, 1, 0, 0,\n",
       "       1, 1, 1, 0, 1, 1, 1, 1, 1, 0, 0, 1, 1, 0, 1, 1, 0, 0, 1, 0, 1, 1,\n",
       "       1, 1, 0, 1, 1, 1, 1, 1, 0, 1, 0, 0, 0, 0, 0, 0, 0, 0, 0, 0, 0, 0,\n",
       "       0, 0, 1, 1, 1, 1, 1, 1, 0, 1, 0, 1, 1, 0, 1, 1, 0, 1, 0, 0, 1, 1,\n",
       "       1, 1, 1, 1, 1, 1, 1, 1, 1, 1, 1, 0, 1, 1, 0, 1, 0, 1, 1, 1, 1, 1,\n",
       "       1, 1, 1, 1, 1, 1, 1, 1, 1, 0, 1, 1, 1, 0, 1, 0, 1, 1, 1, 1, 0, 0,\n",
       "       0, 1, 1, 1, 1, 0, 1, 0, 1, 0, 1, 1, 1, 0, 1, 1, 1, 1, 1, 1, 1, 0,\n",
       "       0, 0, 1, 1, 1, 1, 1, 1, 1, 1, 1, 1, 1, 0, 0, 1, 0, 0, 0, 1, 0, 0,\n",
       "       1, 1, 1, 1, 1, 0, 1, 1, 1, 1, 1, 0, 1, 1, 1, 0, 1, 1, 0, 0, 1, 1,\n",
       "       1, 1, 1, 1, 0, 1, 1, 1, 1, 1, 1, 1, 0, 1, 1, 1, 1, 1, 0, 1, 1, 0,\n",
       "       1, 1, 1, 1, 1, 1, 1, 1, 1, 1, 1, 1, 0, 1, 0, 0, 1, 0, 1, 1, 1, 1,\n",
       "       1, 0, 1, 1, 0, 1, 0, 1, 1, 0, 1, 0, 1, 1, 1, 1, 1, 1, 1, 1, 0, 0,\n",
       "       1, 1, 1, 1, 1, 1, 0, 1, 1, 1, 1, 1, 1, 1, 1, 1, 1, 0, 1, 1, 1, 1,\n",
       "       1, 1, 1, 0, 1, 0, 1, 1, 0, 1, 1, 1, 1, 1, 0, 0, 1, 0, 1, 0, 1, 1,\n",
       "       1, 1, 1, 0, 1, 1, 0, 1, 0, 1, 0, 0, 1, 1, 1, 0, 1, 1, 1, 1, 1, 1,\n",
       "       1, 1, 1, 1, 1, 0, 1, 0, 0, 1, 1, 1, 1, 1, 1, 1, 1, 1, 1, 1, 1, 1,\n",
       "       1, 1, 1, 1, 1, 1, 1, 1, 1, 1, 1, 1, 0, 0, 0, 0, 0, 0, 1])"
      ]
     },
     "execution_count": 2,
     "metadata": {},
     "output_type": "execute_result"
    }
   ],
   "source": [
    "from sklearn.datasets import load_breast_cancer\n",
    "import numpy as np\n",
    "\n",
    "data, target = load_breast_cancer(return_X_y=True)\n",
    "target"
   ]
  },
  {
   "cell_type": "markdown",
   "metadata": {},
   "source": [
    "#### B. Prepare the data\n",
    "1. Apply *standard scaling*\n",
    "2. Split the data, setting aside 30% for testing"
   ]
  },
  {
   "cell_type": "code",
   "execution_count": 3,
   "metadata": {},
   "outputs": [],
   "source": [
    "from sklearn.model_selection import train_test_split\n",
    "from sklearn.preprocessing import StandardScaler\n",
    "\n",
    "sc=StandardScaler()\n",
    "data_std = sc.fit_transform(data)\n",
    "X_train, X_test, y_train, y_test = train_test_split(data_std, target, test_size=0.30, random_state=1)"
   ]
  },
  {
   "cell_type": "markdown",
   "metadata": {},
   "source": [
    "#### C. print out the number of training samples and test samples"
   ]
  },
  {
   "cell_type": "code",
   "execution_count": 4,
   "metadata": {},
   "outputs": [
    {
     "name": "stdout",
     "output_type": "stream",
     "text": [
      "test samples: 398\n",
      "training samples: 171\n"
     ]
    }
   ],
   "source": [
    "print(\"test samples: %s\" % (len(X_train)))\n",
    "print(\"training samples: %s\" % (len(X_test)))"
   ]
  },
  {
   "cell_type": "markdown",
   "metadata": {},
   "source": [
    "### 2. Select the most important features\n",
    "\n",
    "**Hint**: You might want to check the sample solution for the homework on classification to help with this ...\n",
    "#### A. Find features\n",
    "Use a Decision Tree classifier to select the two most important features and keep only those for training and testing"
   ]
  },
  {
   "cell_type": "code",
   "execution_count": 5,
   "metadata": {},
   "outputs": [
    {
     "name": "stdout",
     "output_type": "stream",
     "text": [
      "Decision tree train/test accuracies 1.000/0.906\n"
     ]
    }
   ],
   "source": [
    "from sklearn.tree import DecisionTreeClassifier\n",
    "from sklearn.metrics import accuracy_score\n",
    "\n",
    "tree = DecisionTreeClassifier(criterion='entropy',random_state=0)\n",
    "\n",
    "tree = tree.fit(X_train, y_train)\n",
    "y_train_pred = tree.predict(X_train)\n",
    "y_test_pred = tree.predict(X_test)\n",
    "\n",
    "tree_train = accuracy_score(y_train, y_train_pred)\n",
    "tree_test = accuracy_score(y_test, y_test_pred)\n",
    "print('Decision tree train/test accuracies %.3f/%.3f'\n",
    "      % (tree_train, tree_test))\n"
   ]
  },
  {
   "cell_type": "code",
   "execution_count": 6,
   "metadata": {},
   "outputs": [
    {
     "data": {
      "image/png": "[encoded data removed]",
      "text/plain": [
       "<Figure size 432x288 with 1 Axes>"
      ]
     },
     "metadata": {
      "needs_background": "light"
     },
     "output_type": "display_data"
    }
   ],
   "source": [
    "from matplotlib import pyplot\n",
    "\n",
    "pyplot.bar(range(len(tree.feature_importances_)), tree.feature_importances_)\n",
    "pyplot.show()"
   ]
  },
  {
   "cell_type": "markdown",
   "metadata": {},
   "source": [
    "#### B. Print the indexes of the most important features"
   ]
  },
  {
   "cell_type": "code",
   "execution_count": 7,
   "metadata": {},
   "outputs": [
    {
     "name": "stdout",
     "output_type": "stream",
     "text": [
      "[ 0 26 24 23 19 18 17 16 15 28 13 14 29  1  9  8  7  5 11  2  3 25  4  6\n",
      " 20 12 10 21 27 22]\n"
     ]
    }
   ],
   "source": [
    "importances = tree.feature_importances_\n",
    "indices = np.argsort(importances)\n",
    "print(indices)"
   ]
  },
  {
   "cell_type": "code",
   "execution_count": 8,
   "metadata": {},
   "outputs": [
    {
     "name": "stdout",
     "output_type": "stream",
     "text": [
      "[0.6837238551555163, 0.1295149412586525]\n"
     ]
    }
   ],
   "source": [
    "a = np.array(tree.feature_importances_)\n",
    "b = [22,27]\n",
    "print(list(a[b]))"
   ]
  },
  {
   "cell_type": "code",
   "execution_count": 9,
   "metadata": {},
   "outputs": [
    {
     "name": "stdout",
     "output_type": "stream",
     "text": [
      "Decision tree train/test accuracies 1.000/0.901\n"
     ]
    }
   ],
   "source": [
    "# use only the two most importan features\n",
    "X_train, X_test, y_train, y_test = train_test_split(data_std[:,[22,27]], target, test_size=0.30, random_state=1)\n",
    "\n",
    "tree = DecisionTreeClassifier(criterion='entropy',random_state=0)\n",
    "\n",
    "tree = tree.fit(X_train, y_train)\n",
    "y_train_pred = tree.predict(X_train)\n",
    "y_test_pred = tree.predict(X_test)\n",
    "\n",
    "tree_train = accuracy_score(y_train, y_train_pred)\n",
    "tree_test = accuracy_score(y_test, y_test_pred)\n",
    "print('Decision tree train/test accuracies %.3f/%.3f'\n",
    "      % (tree_train, tree_test))\n",
    "\n"
   ]
  },
  {
   "cell_type": "markdown",
   "metadata": {},
   "source": [
    "### 3. Construct and cross-validate a voting classifier\n",
    "1. Use a *perceptron* as one base classifier (with a maximum of 50 Iterations, a tolerance of $10^{-3}$ and a random state of $0$)\n",
    "2. Use a *Gaussian Naive Bayes* as the second base classifier (from the `naive_bayes` module; no parameters needed)\n",
    "3. Use a *Support Vector Classifier* as the third base classifier (from the `svm` module; set `gamma` to `'auto'` and choose a random state of $0$)\n",
    "4. Use *hard voting* in the voting classifier\n",
    "5. Use *accuracy* as the scoring criterion in cross validation"
   ]
  },
  {
   "cell_type": "code",
   "execution_count": 10,
   "metadata": {},
   "outputs": [
    {
     "name": "stdout",
     "output_type": "stream",
     "text": [
      "10-fold cross validation:\n",
      "\n",
      "ROC AUC: 0.95 (+/- 0.03) [Perceptron]\n",
      "ROC AUC: 0.95 (+/- 0.03) [Naive Bayes]\n",
      "ROC AUC: 0.94 (+/- 0.03) [Support Vector]\n"
     ]
    }
   ],
   "source": [
    "from sklearn.linear_model import Perceptron\n",
    "from sklearn.naive_bayes import GaussianNB\n",
    "from sklearn import svm\n",
    "from sklearn.ensemble import VotingClassifier\n",
    "from sklearn.model_selection import cross_val_score # sklearn.cross_validation has been superseded\n",
    "\n",
    "clf_per = Perceptron(max_iter=50, tol=1e-3, random_state=0)\n",
    "clf_nb = GaussianNB()\n",
    "clf_svm = svm.SVC(gamma='auto', random_state=0)\n",
    "clf_vc = VotingClassifier(estimators=[('per',clf_per), ('nb',clf_nb), ('svm',clf_svm)], voting='hard')\n",
    "\n",
    "clf_labels = ['Perceptron', 'Naive Bayes', 'Support Vector']\n",
    "print('10-fold cross validation:\\n')\n",
    "for clf, label in zip([clf_per, clf_nb, clf_svm], clf_labels):\n",
    "    scores = cross_val_score(estimator=clf, \n",
    "                             X=X_train, \n",
    "                             y=y_train, \n",
    "                             cv=10, \n",
    "                             scoring='accuracy') \n",
    "    print(\"ROC AUC: %0.2f (+/- %0.2f) [%s]\" \n",
    "               % (scores.mean(), scores.std(), label))"
   ]
  },
  {
   "cell_type": "code",
   "execution_count": 11,
   "metadata": {},
   "outputs": [
    {
     "name": "stdout",
     "output_type": "stream",
     "text": [
      "ROC AUC: 0.95 (+/- 0.03) [Perceptron]\n",
      "ROC AUC: 0.95 (+/- 0.03) [Naive Bayes]\n",
      "ROC AUC: 0.94 (+/- 0.03) [Support Vector]\n",
      "ROC AUC: 0.94 (+/- 0.03) [Majority Voting]\n"
     ]
    }
   ],
   "source": [
    "clf_labels += ['Majority Voting']\n",
    "all_clf = [clf_per, clf_nb, clf_svm, clf_vc]\n",
    "\n",
    "for clf, label in zip(all_clf, clf_labels):\n",
    "    scores = cross_val_score(estimator=clf, \n",
    "                             X=X_train, \n",
    "                             y=y_train, \n",
    "                             cv=10, \n",
    "                             scoring='accuracy')\n",
    "    print(\"ROC AUC: %0.2f (+/- %0.2f) [%s]\" \n",
    "               % (scores.mean(), scores.std(), label))"
   ]
  },
  {
   "cell_type": "markdown",
   "metadata": {},
   "source": [
    "### 4. Plot the decision regions of the voting classifier as well as the base classifiers"
   ]
  },
  {
   "cell_type": "code",
   "execution_count": 12,
   "metadata": {},
   "outputs": [
    {
     "data": {
      "image/png": "[encoded data removed]",
      "text/plain": [
       "<Figure size 864x576 with 4 Axes>"
      ]
     },
     "metadata": {
      "needs_background": "light"
     },
     "output_type": "display_data"
    }
   ],
   "source": [
    "from itertools import product\n",
    "\n",
    "# now the data is scaled anyway and we do not need the pipelines anymore\n",
    "\n",
    "x_min = X_train[:, 0].min() - 1\n",
    "x_max = X_train[:, 0].max() + 1\n",
    "y_min = X_train[:, 1].min() - 1\n",
    "y_max = X_train[:, 1].max() + 1\n",
    "\n",
    "xx, yy = np.meshgrid(np.arange(x_min, x_max, 0.1),\n",
    "                     np.arange(y_min, y_max, 0.1))\n",
    "\n",
    "f, axarr = plt.subplots(nrows=2, ncols=2, \n",
    "                        sharex='col', \n",
    "                        sharey='row', \n",
    "                        figsize=(12, 8))\n",
    "\n",
    "for idx, clf, tt in zip(product([0, 1], [0, 1]),\n",
    "                        all_clf, clf_labels):\n",
    "    clf.fit(X_train, y_train)\n",
    "    \n",
    "    Z = clf.predict(np.c_[xx.ravel(), yy.ravel()])\n",
    "    Z = Z.reshape(xx.shape)\n",
    "\n",
    "    axarr[idx[0], idx[1]].contourf(xx, yy, Z, cmap='coolwarm', alpha=0.3)\n",
    "    \n",
    "    axarr[idx[0], idx[1]].scatter(X_train[y_train==0, 0], \n",
    "                                  X_train[y_train==0, 1], \n",
    "                                  c='blue', \n",
    "                                  marker='^',\n",
    "                                  s=50)\n",
    "    \n",
    "    axarr[idx[0], idx[1]].scatter(X_train[y_train==1, 0], \n",
    "                                  X_train[y_train==1, 1], \n",
    "                                  c='red', \n",
    "                                  marker='o',\n",
    "                                  s=50)\n",
    "    \n",
    "    axarr[idx[0], idx[1]].set_title(tt)\n",
    "\n",
    "plt.text(-3.5, -4.5, \n",
    "         s='concavity worst [standardized]', \n",
    "         ha='center', va='center', fontsize=12)\n",
    "plt.text(-10.5, 4.5, \n",
    "         s='texture worst [standardized]', \n",
    "         ha='center', va='center', \n",
    "         fontsize=12, rotation=90)\n",
    "\n",
    "# plt.tight_layout()\n",
    "# plt.savefig('./figures/voting_panel', bbox_inches='tight', dpi=300)\n",
    "plt.show()"
   ]
  },
  {
   "cell_type": "markdown",
   "metadata": {},
   "source": [
    "### 5. Check which parameters you might adapt in the voting classifier"
   ]
  },
  {
   "cell_type": "code",
   "execution_count": 13,
   "metadata": {},
   "outputs": [
    {
     "data": {
      "text/plain": [
       "{'estimators': [('per',\n",
       "   Perceptron(alpha=0.0001, class_weight=None, early_stopping=False, eta0=1.0,\n",
       "              fit_intercept=True, max_iter=50, n_iter_no_change=5, n_jobs=None,\n",
       "              penalty=None, random_state=0, shuffle=True, tol=0.001,\n",
       "              validation_fraction=0.1, verbose=0, warm_start=False)),\n",
       "  ('nb', GaussianNB(priors=None, var_smoothing=1e-09)),\n",
       "  ('svm', SVC(C=1.0, cache_size=200, class_weight=None, coef0=0.0,\n",
       "       decision_function_shape='ovr', degree=3, gamma='auto', kernel='rbf',\n",
       "       max_iter=-1, probability=False, random_state=0, shrinking=True, tol=0.001,\n",
       "       verbose=False))],\n",
       " 'flatten_transform': True,\n",
       " 'n_jobs': None,\n",
       " 'voting': 'hard',\n",
       " 'weights': None,\n",
       " 'per': Perceptron(alpha=0.0001, class_weight=None, early_stopping=False, eta0=1.0,\n",
       "            fit_intercept=True, max_iter=50, n_iter_no_change=5, n_jobs=None,\n",
       "            penalty=None, random_state=0, shuffle=True, tol=0.001,\n",
       "            validation_fraction=0.1, verbose=0, warm_start=False),\n",
       " 'nb': GaussianNB(priors=None, var_smoothing=1e-09),\n",
       " 'svm': SVC(C=1.0, cache_size=200, class_weight=None, coef0=0.0,\n",
       "     decision_function_shape='ovr', degree=3, gamma='auto', kernel='rbf',\n",
       "     max_iter=-1, probability=False, random_state=0, shrinking=True, tol=0.001,\n",
       "     verbose=False),\n",
       " 'per__alpha': 0.0001,\n",
       " 'per__class_weight': None,\n",
       " 'per__early_stopping': False,\n",
       " 'per__eta0': 1.0,\n",
       " 'per__fit_intercept': True,\n",
       " 'per__max_iter': 50,\n",
       " 'per__n_iter_no_change': 5,\n",
       " 'per__n_jobs': None,\n",
       " 'per__penalty': None,\n",
       " 'per__random_state': 0,\n",
       " 'per__shuffle': True,\n",
       " 'per__tol': 0.001,\n",
       " 'per__validation_fraction': 0.1,\n",
       " 'per__verbose': 0,\n",
       " 'per__warm_start': False,\n",
       " 'nb__priors': None,\n",
       " 'nb__var_smoothing': 1e-09,\n",
       " 'svm__C': 1.0,\n",
       " 'svm__cache_size': 200,\n",
       " 'svm__class_weight': None,\n",
       " 'svm__coef0': 0.0,\n",
       " 'svm__decision_function_shape': 'ovr',\n",
       " 'svm__degree': 3,\n",
       " 'svm__gamma': 'auto',\n",
       " 'svm__kernel': 'rbf',\n",
       " 'svm__max_iter': -1,\n",
       " 'svm__probability': False,\n",
       " 'svm__random_state': 0,\n",
       " 'svm__shrinking': True,\n",
       " 'svm__tol': 0.001,\n",
       " 'svm__verbose': False}"
      ]
     },
     "execution_count": 13,
     "metadata": {},
     "output_type": "execute_result"
    }
   ],
   "source": [
    "clf_vc.get_params()"
   ]
  },
  {
   "cell_type": "markdown",
   "metadata": {},
   "source": [
    "### 6. Perform a grid search using the number of iterations for the perceptron and the support vector machine\n",
    "1. For the perceptron, try 5, 10, and 20 iterations\n",
    "2. For the SVM, try 200, 400, and 1000 iterations"
   ]
  },
  {
   "cell_type": "code",
   "execution_count": 14,
   "metadata": {},
   "outputs": [
    {
     "name": "stdout",
     "output_type": "stream",
     "text": [
      "0.942+/-0.02 {'per__max_iter': 5, 'svm__max_iter': 200}\n",
      "0.942+/-0.02 {'per__max_iter': 5, 'svm__max_iter': 400}\n",
      "0.942+/-0.02 {'per__max_iter': 5, 'svm__max_iter': 1000}\n",
      "0.942+/-0.02 {'per__max_iter': 10, 'svm__max_iter': 200}\n",
      "0.942+/-0.02 {'per__max_iter': 10, 'svm__max_iter': 400}\n",
      "0.942+/-0.02 {'per__max_iter': 10, 'svm__max_iter': 1000}\n",
      "0.942+/-0.02 {'per__max_iter': 20, 'svm__max_iter': 200}\n",
      "0.942+/-0.02 {'per__max_iter': 20, 'svm__max_iter': 400}\n",
      "0.942+/-0.02 {'per__max_iter': 20, 'svm__max_iter': 1000}\n"
     ]
    }
   ],
   "source": [
    "from sklearn.model_selection import GridSearchCV  # grid_search is now also part of model selection\n",
    "\n",
    "params = {'per__max_iter': [5,10,20],\n",
    "          'svm__max_iter': [200,400,1000]}\n",
    "\n",
    "grid = GridSearchCV(estimator=clf_vc, \n",
    "                    param_grid=params, \n",
    "                    cv=10, \n",
    "                    scoring='accuracy')\n",
    "grid.fit(X_train, y_train)\n",
    "\n",
    "grid_scores = zip(grid.cv_results_['params'],\n",
    "                  grid.cv_results_['mean_test_score'],\n",
    "                  grid.cv_results_['std_test_score'])\n",
    "\n",
    "for params, mean_score, std_score in grid_scores:\n",
    "    print(\"%0.3f+/-%0.2f %r\"\n",
    "            % (mean_score, std_score / 2, params))\n",
    "\n"
   ]
  },
  {
   "cell_type": "code",
   "execution_count": 15,
   "metadata": {},
   "outputs": [
    {
     "name": "stdout",
     "output_type": "stream",
     "text": [
      "Best parameters: {'per__max_iter': 5, 'svm__max_iter': 200}\n",
      "Accuracy: 0.94\n"
     ]
    }
   ],
   "source": [
    "print('Best parameters: %s' % grid.best_params_)\n",
    "print('Accuracy: %.2f' % grid.best_score_)"
   ]
  },
  {
   "cell_type": "markdown",
   "metadata": {},
   "source": [
    "### 7. Train an Adaboost classifier with a perceptron as a base classifier as well as a random forest and compare their respective accuracies (also to the base classifier)\n",
    "1. For the perceptron, use the same parameters as above except for the maximum number of iterations which should be 5.\n",
    "2. Since the perceptron does not offer class probabilities, you must specify `algorithm='SAMME'` for Adaboost. Apart from this (and the *base estimator*), you can use the parameters we employed in class.\n",
    "3. For the random forest, you can use the parameters we employed in class."
   ]
  },
  {
   "cell_type": "code",
   "execution_count": 16,
   "metadata": {},
   "outputs": [
    {
     "name": "stdout",
     "output_type": "stream",
     "text": [
      "Perceptrom train/test accuracies 0.952/0.912\n",
      "Random forest train/test accuracies 1.000/0.918\n",
      "Ada Perceptron train/test accuracies 0.952/0.924\n",
      "Ada Random Forest train/test accuracies 1.000/0.918\n"
     ]
    }
   ],
   "source": [
    "from sklearn.ensemble import AdaBoostClassifier\n",
    "from sklearn.ensemble import RandomForestClassifier\n",
    "\n",
    "per =  Perceptron(max_iter=5, tol=1e-3, random_state=0)\n",
    "\n",
    "forest = RandomForestClassifier(criterion='entropy',\n",
    "                                n_estimators=10, \n",
    "                                random_state=1,\n",
    "                                n_jobs=2)\n",
    "\n",
    "\n",
    "ada_per = AdaBoostClassifier(base_estimator=per,\n",
    "                         n_estimators=500, \n",
    "                         learning_rate=0.1,\n",
    "                         random_state=0,\n",
    "                         algorithm='SAMME')\n",
    "\n",
    "ada_forest = AdaBoostClassifier(base_estimator=forest,\n",
    "                         n_estimators=500, \n",
    "                         learning_rate=0.1,\n",
    "                         random_state=0,\n",
    "                         algorithm='SAMME')\n",
    "\n",
    "\n",
    "per = per.fit(X_train, y_train)\n",
    "y_train_pred = per.predict(X_train)\n",
    "y_test_pred = per.predict(X_test)\n",
    "\n",
    "per_train = accuracy_score(y_train, y_train_pred)\n",
    "per_test = accuracy_score(y_test, y_test_pred)\n",
    "print('Perceptrom train/test accuracies %.3f/%.3f'\n",
    "      % (per_train, per_test))\n",
    "\n",
    "\n",
    "forest = forest.fit(X_train, y_train)\n",
    "y_train_pred = forest.predict(X_train)\n",
    "y_test_pred = forest.predict(X_test)\n",
    "\n",
    "forest_train = accuracy_score(y_train, y_train_pred) \n",
    "forest_test = accuracy_score(y_test, y_test_pred) \n",
    "print('Random forest train/test accuracies %.3f/%.3f'\n",
    "      % (forest_train, forest_test))\n",
    "\n",
    "\n",
    "ada_per = ada_per.fit(X_train, y_train)\n",
    "y_train_pred = ada_per.predict(X_train)\n",
    "y_test_pred = ada_per.predict(X_test)\n",
    "\n",
    "ada_per_train = accuracy_score(y_train, y_train_pred) \n",
    "ada_per_test = accuracy_score(y_test, y_test_pred) \n",
    "print('Ada Perceptron train/test accuracies %.3f/%.3f'\n",
    "      % (ada_per_train, ada_per_test))\n",
    "\n",
    "\n",
    "ada_forest = ada_forest.fit(X_train, y_train)\n",
    "y_train_pred = ada_forest.predict(X_train)\n",
    "y_test_pred = ada_forest.predict(X_test)\n",
    "\n",
    "ada_forest_train = accuracy_score(y_train, y_train_pred) \n",
    "ada_forest_test = accuracy_score(y_test, y_test_pred) \n",
    "print('Ada Random Forest train/test accuracies %.3f/%.3f'\n",
    "      % (ada_forest_train, ada_forest_test))\n",
    "\n"
   ]
  },
  {
   "cell_type": "markdown",
   "metadata": {},
   "source": [
    "### 8.  Plot the decision regions for the classifiers you just constructed"
   ]
  },
  {
   "cell_type": "code",
   "execution_count": 17,
   "metadata": {},
   "outputs": [
    {
     "data": {
      "image/png": "[encoded data removed]",
      "text/plain": [
       "<Figure size 1080x288 with 4 Axes>"
      ]
     },
     "metadata": {
      "needs_background": "light"
     },
     "output_type": "display_data"
    }
   ],
   "source": [
    "%matplotlib inline\n",
    "import numpy as np\n",
    "import matplotlib.pyplot as plt\n",
    "\n",
    "x_min = X_train[:, 0].min() - 0.5\n",
    "x_max = X_train[:, 0].max() + 0.5\n",
    "y_min = X_train[:, 1].min() - 0.2\n",
    "y_max = X_train[:, 1].max() + 0.2\n",
    "\n",
    "xx, yy = np.meshgrid(np.arange(x_min, x_max, 0.1),\n",
    "                     np.arange(y_min, y_max, 0.1))\n",
    "\n",
    "f, axarr = plt.subplots(nrows=1, ncols=4, \n",
    "                        sharex='col', \n",
    "                        sharey='row', \n",
    "                        figsize=(15, 4))\n",
    "\n",
    "\n",
    "for idx, clf, tt in zip([0, 1, 2, 3],\n",
    "                        [per, forest, ada_per, ada_forest],\n",
    "                        ['Perceptron', 'Random Forest', 'Ada Perceptron', 'Ada Random Forest']):\n",
    "    clf.fit(X_train, y_train)\n",
    "    \n",
    "    Z = clf.predict(np.c_[xx.ravel(), yy.ravel()])\n",
    "    Z = Z.reshape(xx.shape)\n",
    "\n",
    "    axarr[idx].contourf(xx, yy, Z, cmap=\"coolwarm\", alpha=0.3)\n",
    "    axarr[idx].scatter(X_train[y_train==0, 0], \n",
    "                       X_train[y_train==0, 1], \n",
    "                       c='blue', marker='^')\n",
    "    \n",
    "    axarr[idx].scatter(X_train[y_train==1, 0], \n",
    "                       X_train[y_train==1, 1], \n",
    "                       c='red', marker='o')\n",
    "    \n",
    "    axarr[idx].set_title(tt)\n",
    "\n",
    "axarr[0].set_ylabel('texture worst [standardized]', fontsize=12)\n",
    "plt.text(7.6, 0.1, \n",
    "         s='concavity worst [standardized]', \n",
    "         ha='center', va='center', fontsize=12)\n",
    "    \n",
    "# plt.tight_layout()\n",
    "#plt.savefig('./figures/bagging_region.png', \n",
    "#            dpi=300, \n",
    "#            bbox_inches='tight')\n",
    "plt.show()"
   ]
  },
  {
   "cell_type": "code",
   "execution_count": null,
   "metadata": {},
   "outputs": [],
   "source": []
  }
 ],
 "metadata": {
  "kernelspec": {
   "display_name": "Python 3",
   "language": "python",
   "name": "python3"
  },
  "language_info": {
   "codemirror_mode": {
    "name": "ipython",
    "version": 3
   },
   "file_extension": ".py",
   "mimetype": "text/x-python",
   "name": "python",
   "nbconvert_exporter": "python",
   "pygments_lexer": "ipython3",
   "version": "3.7.4"
  }
 },
 "nbformat": 4,
 "nbformat_minor": 1
}
