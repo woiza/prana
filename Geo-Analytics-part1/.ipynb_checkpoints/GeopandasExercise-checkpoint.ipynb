{
 "cells": [
  {
   "cell_type": "markdown",
   "metadata": {},
   "source": [
    "# Exercises using geopandas\n",
    "Now it is your turn to produce some nice maps using *geopandas*. This week will again use the plant data which was part of last weeks exercises. As you might have noticed it already contains the position of the plants as *latitude* and *longitude*."
   ]
  },
  {
   "cell_type": "markdown",
   "metadata": {},
   "source": [
    "## Preparation\n",
    "Load the relevant libraries and the csv file into pandas that it becomes a regular dataframe."
   ]
  },
  {
   "cell_type": "code",
   "execution_count": 2,
   "metadata": {},
   "outputs": [],
   "source": [
    "%matplotlib inline\n",
    "\n",
    "import matplotlib.pyplot as plt\n",
    "import pandas as pd\n",
    "import geopandas as gpd\n",
    "import pysal as ps\n",
    "from pysal.contrib.viz import mapping as maps\n",
    "import palettable as pltt\n",
    "import seaborn as sns\n",
    "\n",
    "df = pd.read_csv('/home/herbort/Downloads/conventional_power_plants_DE.csv', index_col=0)"
   ]
  },
  {
   "cell_type": "markdown",
   "metadata": {},
   "source": [
    "## Exercise 1\n",
    "Create a \"map\" of the power plants using their position and color them by their technology.\n",
    "\n",
    "Hints:\n",
    "* May be a scatterplot would do as a first visualization."
   ]
  },
  {
   "cell_type": "code",
   "execution_count": null,
   "metadata": {},
   "outputs": [],
   "source": []
  },
  {
   "cell_type": "markdown",
   "metadata": {},
   "source": [
    "## Exercise 2\n",
    "Next, use geopandas to create a Geo Data Frame containing the power plants and their coordinates. Plot a first map and compare it to the results of Exercise 2 to see whether the transformation has been successful. \n",
    "\n",
    "Hints:\n",
    "* A look at this <a href=\"https://geopandas.readthedocs.io/en/latest/gallery/create_geopandas_from_pandas.html\"> tutorial</a> may help."
   ]
  },
  {
   "cell_type": "code",
   "execution_count": null,
   "metadata": {},
   "outputs": [],
   "source": []
  },
  {
   "cell_type": "markdown",
   "metadata": {},
   "source": [
    "## Exercise 3 \n",
    "Add the boundaries of Germany and its states using an appropriate shape file. Finally reduce the map as well as the plants to those located in Bavaria.\n",
    "\n",
    "Hint:\n",
    "* The <a href=\"http://www.geodatenzentrum.de/geodaten/gdz_rahmen.gdz_div?gdz_spr=deu&gdz_akt_zeile=5&gdz_anz_zeile=1&gdz_unt_zeile=15&gdz_user_id=0\">The Service Centre of the Federal Government for Geo-Information and Geodesy </a> is maybe a good source for geospatial data.\n",
    "\n",
    "A:"
   ]
  },
  {
   "cell_type": "code",
   "execution_count": null,
   "metadata": {},
   "outputs": [],
   "source": []
  },
  {
   "cell_type": "markdown",
   "metadata": {},
   "source": [
    "B (like in Bavaria):"
   ]
  },
  {
   "cell_type": "code",
   "execution_count": null,
   "metadata": {},
   "outputs": [],
   "source": [
    "\n"
   ]
  }
 ],
 "metadata": {
  "kernelspec": {
   "display_name": "Python 3",
   "language": "python",
   "name": "python3"
  },
  "language_info": {
   "codemirror_mode": {
    "name": "ipython",
    "version": 3
   },
   "file_extension": ".py",
   "mimetype": "text/x-python",
   "name": "python",
   "nbconvert_exporter": "python",
   "pygments_lexer": "ipython3",
   "version": "3.7.4"
  }
 },
 "nbformat": 4,
 "nbformat_minor": 2
}
