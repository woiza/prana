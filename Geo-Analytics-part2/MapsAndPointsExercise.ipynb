{
 "cells": [
  {
   "cell_type": "markdown",
   "metadata": {},
   "source": [
    "# Exercises for Maps and Points\n",
    "This week you are going to produce some Choropleths and Maps using *geopandas* and *folium*. Again use the plant data which was part of last weeks exercises. "
   ]
  },
  {
   "cell_type": "markdown",
   "metadata": {},
   "source": [
    "## Preparation\n",
    "Start by importing the relevant libraries and loading the data into python."
   ]
  },
  {
   "cell_type": "code",
   "execution_count": 184,
   "metadata": {},
   "outputs": [],
   "source": [
    "#import libraries\n",
    "%matplotlib inline\n",
    "\n",
    "#load data and shapefile for choropleth\n",
    "\n"
   ]
  },
  {
   "cell_type": "markdown",
   "metadata": {},
   "source": [
    "## Exercise 1\n",
    "Using geopandas, create 3 different Choropleths showing the number of power plants per state using...\n",
    "1. equally distributed bins and\n",
    "2. quantiles for the colouring. \n",
    "3. Finally investigate the distribution of the number of plants using a KDE plot.\n",
    "\n",
    "Hints:\n",
    "* Obviously, you need to aggregate the data in an appropriate way using e.g. pandas. See discussion at <a href=\"https://stackoverflow.com/questions/19384532/how-to-count-number-of-rows-per-group-and-other-statistics-in-pandas-group-by\">stackoverlow</a>.\n",
    "* Also, you need to *<a href=\"https://pandas.pydata.org/pandas-docs/stable/generated/pandas.DataFrame.merge.html#pandas.DataFrame.merge\">merge</a>* the geo dataframe (shape file) with the pandas dataframe (csv).\n",
    "* Use an appropriate <a href=\"https://matplotlib.org/users/colormaps.html\">colormap</a> such as 'viridis'."
   ]
  },
  {
   "cell_type": "code",
   "execution_count": null,
   "metadata": {},
   "outputs": [],
   "source": [
    "# prepare the data to get the no of plants per state\n"
   ]
  },
  {
   "cell_type": "code",
   "execution_count": 1,
   "metadata": {},
   "outputs": [],
   "source": [
    "# plot the data using geopandas.plot using equal intervals\n"
   ]
  },
  {
   "cell_type": "code",
   "execution_count": 2,
   "metadata": {},
   "outputs": [],
   "source": [
    "# plot the data using geopandas.plot using quantiles\n"
   ]
  },
  {
   "cell_type": "code",
   "execution_count": 3,
   "metadata": {},
   "outputs": [],
   "source": [
    "# plot a kdeplot using seaborn to show the distribution\n"
   ]
  },
  {
   "cell_type": "markdown",
   "metadata": {},
   "source": [
    "## Exercise 2\n",
    "Create a map showing the locations of power plants in Baden-Württemberg using folium. Use the column 'technology' for the description of each marker.\n",
    "\n",
    "Hints:\n",
    "* Baden Württemberg has its centroid at 48.661604,9.350134.\n",
    "* One can iterate over each row of a data frame *df* using iterrows() like this:\n",
    "\n",
    "  for index, row in df.iterrows():\n",
    "      row['index1']...."
   ]
  },
  {
   "cell_type": "code",
   "execution_count": 4,
   "metadata": {
    "scrolled": true
   },
   "outputs": [],
   "source": [
    "# filter plants for Baden Württemberg\n",
    "\n",
    "# create a map showing Baden-Württemberg\n",
    "\n",
    "# add markers for plants\n"
   ]
  },
  {
   "cell_type": "markdown",
   "metadata": {},
   "source": [
    "## Exercise 3\n",
    "Finally, show a heatmap of the development of power plants (of any type) in Baden-Württemberg over time using folium. Use the *capacity_net_bnetza* as a weight. \n",
    "\n",
    "Hints:\n",
    "* The centroid of Baden-Württemberg can be found in the Exercise above.\n",
    "* You need a HeatMapWithTime. A documentation of the folium plug-ins can be found <a href=\"https://python-visualization.github.io/folium/plugins.html\">here</a>.\n",
    "* The parameters for *data* has to be a list of lists of coordinates[lat,lon] and *index* has to list of lists containing the *years*."
   ]
  },
  {
   "cell_type": "code",
   "execution_count": 181,
   "metadata": {},
   "outputs": [],
   "source": [
    "#get the commissioned years from data frame and convert them to a list\n",
    "\n",
    "# create a list of lists containing unique years as requiered for HeatMap\n",
    "\n",
    "# create a list of lists containing the coordinates of plants in question\n"
   ]
  },
  {
   "cell_type": "code",
   "execution_count": 5,
   "metadata": {},
   "outputs": [],
   "source": [
    "# create a map showing Baden-Württemberg\n",
    "\n",
    "#create HeatMapWithTime\n",
    "\n",
    "#add heatmap as overlay for map\n",
    "\n",
    "#show the plants\n"
   ]
  }
 ],
 "metadata": {
  "kernelspec": {
   "display_name": "Python 3",
   "language": "python",
   "name": "python3"
  },
  "language_info": {
   "codemirror_mode": {
    "name": "ipython",
    "version": 3
   },
   "file_extension": ".py",
   "mimetype": "text/x-python",
   "name": "python",
   "nbconvert_exporter": "python",
   "pygments_lexer": "ipython3",
   "version": "3.6.6"
  }
 },
 "nbformat": 4,
 "nbformat_minor": 2
}
